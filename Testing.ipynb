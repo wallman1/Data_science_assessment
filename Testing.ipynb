{
 "cells": [
  {
   "cell_type": "code",
   "execution_count": null,
   "metadata": {},
   "outputs": [],
   "source": [
    "import pandas as pd\n",
    "genres = [\"metal\",\"Hard-rock\",\"metalcore\",\"death-metal\"]\n",
    "df1 = pd.read_csv(\"spotify_data.csv\")\n",
    "df = df1.loc[df1['genre'].isin(genres)]\n",
    "display(df)"
   ]
  },
  {
   "cell_type": "markdown",
   "metadata": {},
   "source": [
    "**Reading CSV and filtering dataset**\n",
    "This test case was successful in filtering the starting dataset and removing songs that are not needed."
   ]
  },
  {
   "cell_type": "code",
   "execution_count": null,
   "metadata": {},
   "outputs": [],
   "source": [
    "import pandas as pd\n",
    "genres = [\"metal\",\"Hard-rock\",\"metalcore\",\"death-metal\"]\n",
    "df1 = pd.read_csv(\"spotify_data.csv\")\n",
    "df = df1.loc[df1['genre'].isin(genres)]\n",
    "df = df.drop(columns=[\"Unnamed: 0\",\"track_id\",\"danceability\",\"energy\",\"key\",\"loudness\",\"mode\",\"speechiness\",\"acousticness\",\"instrumentalness\",\"liveness\",\"valence\",\"tempo\",\"time_signature\"])\n",
    "df = df.sort_values(\n",
    "        by=\"popularity\",\n",
    "        ascending=False)\n",
    "display(df)"
   ]
  },
  {
   "cell_type": "markdown",
   "metadata": {},
   "source": [
    "**Removing columns and sorting dataset**\n",
    "This test case was successful in removing the columns that held uneeded information and sorted the dataset by popularity in descending order."
   ]
  },
  {
   "cell_type": "code",
   "execution_count": null,
   "metadata": {},
   "outputs": [],
   "source": [
    "import pandas as pd\n",
    "import matplotlib.pyplot as plt\n",
    "import numpy as np\n",
    "genres = [\"metal\",\"Hard-rock\",\"metalcore\",\"death-metal\"]\n",
    "year1 = [2000]\n",
    "year2 = []\n",
    "year3 = []\n",
    "b = 2000\n",
    "year4 = [2000]\n",
    "year5 = []\n",
    "df1 = pd.read_csv(\"spotify_data.csv\")\n",
    "for i in range(0,24):\n",
    "    year3.append(b)\n",
    "    b = b+1\n",
    "df = df1.loc[df1['genre'].isin(genres)]\n",
    "df = df1.loc[df1['genre'].isin(genres)]\n",
    "for i in range(0,24):\n",
    "        year2.append(len(df.loc[df['year'].isin(year1)]))\n",
    "        year1[0] = year1[0]+1\n",
    "df = df.drop(columns=[\"Unnamed: 0\",\"track_id\",\"danceability\",\"energy\",\"key\",\"loudness\",\"mode\",\"speechiness\",\"acousticness\",\"instrumentalness\",\"liveness\",\"valence\",\"tempo\",\"time_signature\"])\n",
    "df = df.sort_values(\n",
    "        by=\"popularity\",\n",
    "        ascending=False)\n",
    "display(df)\n",
    "y = np.array(year2)\n",
    "x = np.array(year3)\n",
    "plt.bar(x,y)\n",
    "plt.show()\n"
   ]
  },
  {
   "cell_type": "markdown",
   "metadata": {},
   "source": [
    "**Creating amount of songs per year graph**\n",
    "This test case was successful in ploting a matplotlib graph which includes information about how many metal song were made per year since 2000."
   ]
  },
  {
   "cell_type": "code",
   "execution_count": null,
   "metadata": {},
   "outputs": [],
   "source": [
    "import pandas as pd\n",
    "import matplotlib.pyplot as plt\n",
    "import numpy as np\n",
    "try:\n",
    "    df1 = pd.read_csv(\"spotify_data.csv\")\n",
    "except:\n",
    "    print(\"Dataset has not been added correctly\")\n",
    "genres = [\"metal\",\"Hard-rock\",\"metalcore\",\"death-metal\"]\n",
    "year1 = [2000]\n",
    "year2 = []\n",
    "year3 = []\n",
    "b = 2000\n",
    "year4 = [2000]\n",
    "year5 = []\n",
    "for i in range(0,24):\n",
    "    year3.append(b)\n",
    "    b = b+1\n",
    "try:\n",
    "    df = df1.loc[df1['genre'].isin(genres)]\n",
    "    for i in range(0,24): \n",
    "        df2 = df.loc[df['year'].isin(year4)]\n",
    "        df2 = df2.sort_values(\n",
    "        by=\"popularity\",\n",
    "        ascending=False)\n",
    "        x = df2.iloc[0][\"popularity\"]\n",
    "        year5.append(x)\n",
    "        year4[0] = year4[0]+1\n",
    "except:\n",
    "    print(\"Dataset does not include a genre column\")\n",
    "\n",
    "try:\n",
    "    for i in range(0,24):\n",
    "        year2.append(len(df.loc[df['year'].isin(year1)]))\n",
    "        year1[0] = year1[0]+1\n",
    "    df = df.sort_values(\n",
    "        by=\"popularity\",\n",
    "        ascending=False)\n",
    "    df = df.drop(columns=[\"Unnamed: 0\",\"track_id\",\"danceability\",\"energy\",\"key\",\"loudness\",\"mode\",\"speechiness\",\"acousticness\",\"instrumentalness\",\"liveness\",\"valence\",\"tempo\",\"time_signature\"])\n",
    "except:\n",
    "    print(\"Dataset does not include a year column\")\n",
    "\n",
    "def bar():\n",
    "    y = np.array(year2)\n",
    "    x = np.array(year3)\n",
    "    plt.bar(x,y)\n",
    "    plt.show()\n",
    "def plot():\n",
    "    y = np.array(year5)\n",
    "    x = np.array(year3)\n",
    "    plt.bar(x,y)\n",
    "    plt.show()\n",
    "\n",
    "def ui():\n",
    "    print(\"\"\"Please select an option:\n",
    "                1 - Show the original dataset\n",
    "                2 - Show the updated dataset\n",
    "                3 - Visualise the amount of metal songs per year\n",
    "                4 - Visualise the popularity of metal songs over time\n",
    "                5 - Quit program\"\"\")\n",
    "    try:\n",
    "        inp = int(input(\"Enter Selection: \"))\n",
    "\n",
    "        if inp == 1:\n",
    "            display(df1)\n",
    "            ui()\n",
    "        elif inp == 2:\n",
    "            display(df.head(50))\n",
    "            ui()\n",
    "        elif inp == 3:\n",
    "            y = np.array(year2)\n",
    "            x = np.array(year3)\n",
    "            plt.bar(x,y)\n",
    "            plt.show()\n",
    "            ui()\n",
    "        elif inp == 4:\n",
    "            y = np.array(year5)\n",
    "            x = np.array(year3)\n",
    "            plt.bar(x,y)\n",
    "            plt.show()\n",
    "            ui()\n",
    "        elif inp == 5:\n",
    "            pass\n",
    "        else:\n",
    "            print(\"Number is not within specified range\")\n",
    "    except:\n",
    "        print(\"Input is not an integer\")\n",
    "ui()"
   ]
  },
  {
   "cell_type": "markdown",
   "metadata": {},
   "source": [
    "****"
   ]
  }
 ],
 "metadata": {
  "kernelspec": {
   "display_name": "Python 3",
   "language": "python",
   "name": "python3"
  },
  "language_info": {
   "codemirror_mode": {
    "name": "ipython",
    "version": 3
   },
   "file_extension": ".py",
   "mimetype": "text/x-python",
   "name": "python",
   "nbconvert_exporter": "python",
   "pygments_lexer": "ipython3",
   "version": "3.10.11"
  }
 },
 "nbformat": 4,
 "nbformat_minor": 2
}
